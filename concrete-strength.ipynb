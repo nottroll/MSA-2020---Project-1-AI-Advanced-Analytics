{
 "cells": [
  {
   "cell_type": "code",
   "execution_count": 1,
   "metadata": {},
   "outputs": [
    {
     "output_type": "stream",
     "name": "stdout",
     "text": "2.2.0\nNum GPUs Available:  1\n"
    }
   ],
   "source": [
    "import warnings\n",
    "warnings.filterwarnings(\"ignore\")\n",
    "import tensorflow as tf\n",
    "\n",
    "from tensorflow import keras\n",
    "from tensorflow.keras import layers\n",
    "\n",
    "physical_devices = tf.config.list_physical_devices('GPU') \n",
    "tf.config.experimental.set_memory_growth(physical_devices[0], True)\n",
    "\n",
    "print(tf.__version__)\n",
    "print(\"Num GPUs Available: \", len(tf.config.experimental.list_physical_devices('GPU')))\n",
    "\n",
    "import pandas as pd\n",
    "import numpy as np\n",
    "\n",
    "import matplotlib.pyplot as plt\n",
    "import scipy.stats as stats\n",
    "import seaborn as sns\n",
    "\n",
    "%matplotlib inline\n",
    "plt.rcParams['figure.figsize'] = (15,5)\n",
    "plt.rcParams[\"font.family\"] = 'DejaVu Sans'\n",
    "plt.rcParams[\"font.size\"] = '12'\n",
    "plt.rcParams['image.cmap'] = 'rainbow'"
   ]
  },
  {
   "cell_type": "code",
   "execution_count": 2,
   "metadata": {},
   "outputs": [
    {
     "output_type": "stream",
     "name": "stdout",
     "text": "cement   slag  flyash  water  superplas  coarse_agg  fine_agg  age  \\\n0   540.0    0.0     0.0  162.0        2.5      1040.0     676.0   28   \n1   540.0    0.0     0.0  162.0        2.5      1055.0     676.0   28   \n2   332.5  142.5     0.0  228.0        0.0       932.0     594.0  270   \n3   332.5  142.5     0.0  228.0        0.0       932.0     594.0  365   \n4   198.6  132.4     0.0  192.0        0.0       978.4     825.5  360   \n\n   strength  \n0     79.99  \n1     61.89  \n2     40.27  \n3     41.05  \n4     44.30  \nShape of data set: (1030, 9)\n"
    }
   ],
   "source": [
    "dataset = pd.read_csv('Concrete_Data.csv')\n",
    "\n",
    "print(dataset.head())\n",
    "\n",
    "print(\"Shape of data set:\", dataset.shape)"
   ]
  },
  {
   "cell_type": "code",
   "execution_count": 3,
   "metadata": {},
   "outputs": [
    {
     "output_type": "stream",
     "name": "stdout",
     "text": "False\n"
    }
   ],
   "source": [
    "test_normality = lambda x: stats.shapiro(x.fillna(0))[1] < 0.01\n",
    "normal = pd.DataFrame(dataset)\n",
    "normal = normal.apply(test_normality)\n",
    "print(not normal.any())"
   ]
  },
  {
   "cell_type": "code",
   "execution_count": 4,
   "metadata": {},
   "outputs": [],
   "source": [
    "import os\n",
    "os.environ['PYTHONHASHSEED'] = '0'\n",
    "seed = 6\n",
    "import random as rn\n",
    "rn.seed(seed)\n",
    "np.random.seed(seed)\n",
    "\n",
    "tf.random.set_seed(seed)"
   ]
  },
  {
   "cell_type": "code",
   "execution_count": 5,
   "metadata": {},
   "outputs": [
    {
     "output_type": "stream",
     "name": "stdout",
     "text": "cement   slag  flyash  water  superplas  coarse_agg  fine_agg  age  \\\n42    237.5  237.5     0.0  228.0        0.0       932.0     594.0  365   \n184   222.4    0.0    96.7  189.3        4.5       967.1     870.3    3   \n131   379.5  151.2     0.0  153.9       15.9      1134.3     605.0   28   \n550   393.0    0.0     0.0  192.0        0.0       940.6     785.6    7   \n808   252.0    0.0     0.0  186.0        0.0      1111.0     784.0    7   \n\n     strength  \n42      39.00  \n184     11.58  \n131     52.20  \n550     27.74  \n808     11.47   (824, 9)\n    cement   slag  flyash  water  superplas  coarse_agg  fine_agg  age  \\\n9    475.0    0.0     0.0  228.0        0.0       932.0     594.0   28   \n19   475.0    0.0     0.0  228.0        0.0       932.0     594.0  180   \n24   380.0    0.0     0.0  228.0        0.0       932.0     670.0  365   \n37   332.5  142.5     0.0  228.0        0.0       932.0     594.0   90   \n39   237.5  237.5     0.0  228.0        0.0       932.0     594.0  180   \n\n    strength  \n9      39.29  \n19     42.62  \n24     52.52  \n37     37.72  \n39     36.25   (206, 9)\n"
    }
   ],
   "source": [
    "# from sklearn.model_selection import train_test_split\n",
    "# train_x, test_x, train_y, test_y = train_test_split(dataset.drop('strength', axis=1), dataset['strength'], test_size=0.2, random_state=42)\n",
    "# print(train_x.shape, test_x.shape, train_y.shape, test_y.shape)\n",
    "\n",
    "train_dataset = dataset.sample(frac=0.8,random_state=69)\n",
    "test_dataset = dataset.drop(train_dataset.index)\n",
    "\n",
    "print(train_dataset.head(), train_dataset.shape)\n",
    "print(test_dataset.head(), test_dataset.shape)"
   ]
  },
  {
   "cell_type": "code",
   "execution_count": 6,
   "metadata": {},
   "outputs": [
    {
     "output_type": "execute_result",
     "data": {
      "text/plain": "            count        mean         std    min    25%     50%       75%  \\\ncement      824.0  281.377306  104.495567  102.0  194.4  269.40   351.250   \nslag        824.0   73.903277   86.092338    0.0    0.0   22.00   142.500   \nflyash      824.0   53.997937   63.164905    0.0    0.0    0.00   118.300   \nwater       824.0  181.990413   21.217147  121.8  164.9  185.70   192.000   \nsuperplas   824.0    6.206311    6.001590    0.0    0.0    6.35    10.325   \ncoarse_agg  824.0  972.764320   78.171931  801.0  932.0  968.00  1030.000   \nfine_agg    824.0  773.141262   80.462484  594.0  724.3  780.10   824.250   \nage         824.0   44.993932   62.216931    1.0    7.0   28.00    56.000   \n\n               max  \ncement       540.0  \nslag         359.4  \nflyash       195.0  \nwater        247.0  \nsuperplas     32.2  \ncoarse_agg  1145.0  \nfine_agg     992.6  \nage          365.0  ",
      "text/html": "<div>\n<style scoped>\n    .dataframe tbody tr th:only-of-type {\n        vertical-align: middle;\n    }\n\n    .dataframe tbody tr th {\n        vertical-align: top;\n    }\n\n    .dataframe thead th {\n        text-align: right;\n    }\n</style>\n<table border=\"1\" class=\"dataframe\">\n  <thead>\n    <tr style=\"text-align: right;\">\n      <th></th>\n      <th>count</th>\n      <th>mean</th>\n      <th>std</th>\n      <th>min</th>\n      <th>25%</th>\n      <th>50%</th>\n      <th>75%</th>\n      <th>max</th>\n    </tr>\n  </thead>\n  <tbody>\n    <tr>\n      <th>cement</th>\n      <td>824.0</td>\n      <td>281.377306</td>\n      <td>104.495567</td>\n      <td>102.0</td>\n      <td>194.4</td>\n      <td>269.40</td>\n      <td>351.250</td>\n      <td>540.0</td>\n    </tr>\n    <tr>\n      <th>slag</th>\n      <td>824.0</td>\n      <td>73.903277</td>\n      <td>86.092338</td>\n      <td>0.0</td>\n      <td>0.0</td>\n      <td>22.00</td>\n      <td>142.500</td>\n      <td>359.4</td>\n    </tr>\n    <tr>\n      <th>flyash</th>\n      <td>824.0</td>\n      <td>53.997937</td>\n      <td>63.164905</td>\n      <td>0.0</td>\n      <td>0.0</td>\n      <td>0.00</td>\n      <td>118.300</td>\n      <td>195.0</td>\n    </tr>\n    <tr>\n      <th>water</th>\n      <td>824.0</td>\n      <td>181.990413</td>\n      <td>21.217147</td>\n      <td>121.8</td>\n      <td>164.9</td>\n      <td>185.70</td>\n      <td>192.000</td>\n      <td>247.0</td>\n    </tr>\n    <tr>\n      <th>superplas</th>\n      <td>824.0</td>\n      <td>6.206311</td>\n      <td>6.001590</td>\n      <td>0.0</td>\n      <td>0.0</td>\n      <td>6.35</td>\n      <td>10.325</td>\n      <td>32.2</td>\n    </tr>\n    <tr>\n      <th>coarse_agg</th>\n      <td>824.0</td>\n      <td>972.764320</td>\n      <td>78.171931</td>\n      <td>801.0</td>\n      <td>932.0</td>\n      <td>968.00</td>\n      <td>1030.000</td>\n      <td>1145.0</td>\n    </tr>\n    <tr>\n      <th>fine_agg</th>\n      <td>824.0</td>\n      <td>773.141262</td>\n      <td>80.462484</td>\n      <td>594.0</td>\n      <td>724.3</td>\n      <td>780.10</td>\n      <td>824.250</td>\n      <td>992.6</td>\n    </tr>\n    <tr>\n      <th>age</th>\n      <td>824.0</td>\n      <td>44.993932</td>\n      <td>62.216931</td>\n      <td>1.0</td>\n      <td>7.0</td>\n      <td>28.00</td>\n      <td>56.000</td>\n      <td>365.0</td>\n    </tr>\n  </tbody>\n</table>\n</div>"
     },
     "metadata": {},
     "execution_count": 6
    }
   ],
   "source": [
    "train_stats = train_dataset.describe()\n",
    "train_stats.pop('strength')\n",
    "train_stats = train_stats.transpose()\n",
    "train_stats"
   ]
  },
  {
   "cell_type": "code",
   "execution_count": 7,
   "metadata": {},
   "outputs": [
    {
     "output_type": "stream",
     "name": "stdout",
     "text": "42     39.00\n184    11.58\n131    52.20\n550    27.74\n808    11.47\nName: strength, dtype: float64 (824,)\n"
    }
   ],
   "source": [
    "train_labels = train_dataset.pop('strength')\n",
    "test_labels = test_dataset.pop('strength')\n",
    "\n",
    "print(train_labels.head(), train_labels.shape)"
   ]
  },
  {
   "cell_type": "code",
   "execution_count": 8,
   "metadata": {},
   "outputs": [
    {
     "output_type": "stream",
     "name": "stdout",
     "text": "cement      slag    flyash     water  superplas  coarse_agg  fine_agg  \\\n42  -0.419896  1.900247 -0.854872  2.168510  -1.034111   -0.521470 -2.226395   \n184 -0.564400 -0.858419  0.676041  0.344513  -0.284310   -0.072460  1.207504   \n131  0.939013  0.897835 -0.854872 -1.323949   1.615187    2.066415 -2.089685   \n550  1.068205 -0.858419 -0.854872  0.471769  -1.034111   -0.411456  0.154839   \n808 -0.281134 -0.858419 -0.854872  0.188979  -1.034111    1.768354  0.134954   \n\n          age  \n42   5.143392  \n184 -0.674960  \n131 -0.273140  \n550 -0.610669  \n808 -0.610669  \n"
    }
   ],
   "source": [
    "def norm(x):\n",
    "  return (x - train_stats['mean']) / train_stats['std']\n",
    "normed_train_data = norm(train_dataset)\n",
    "normed_test_data = norm(test_dataset)\n",
    "\n",
    "print(normed_train_data.head())"
   ]
  },
  {
   "cell_type": "code",
   "execution_count": 9,
   "metadata": {},
   "outputs": [],
   "source": [
    "def train_network(structure, activation, optimizer, epochs):\n",
    "    \n",
    "    model = keras.models.Sequential()\n",
    "    model.add(keras.layers.Dense(units = structure[1], input_dim = structure[0], activation = activation)) \n",
    "    if structure[2] > 0:\n",
    "        model.add(keras.layers.Dense(units = structure[2], activation = activation))\n",
    "        \n",
    "    # Output layer\n",
    "    model.add(keras.layers.Dense(units = structure[-1], activation = None))\n",
    "    \n",
    "    # Compiles the model with parameters\n",
    "    model.compile(loss = 'mse', optimizer = optimizer, metrics = ['mae', 'mse'])\n",
    "    \n",
    "    # This tells the us training has started, so we know that it's actually running\n",
    "    print('training... ', end = '')\n",
    "    \n",
    "    early_stop = keras.callbacks.EarlyStopping(monitor='val_loss', patience=10)\n",
    "    \n",
    "    # This trains the network\n",
    "    training_stats = model.fit(normed_train_data, train_labels, batch_size = 1, epochs = epochs, validation_split = 0.2, verbose = 0, shuffle = False)\n",
    "    \n",
    "    # Results!\n",
    "\n",
    "#     print('train_acc: %0.3f, test_acc: %0.3f' %(training_stats.history['accuracy'][-1], \n",
    "#                                                 model.evaluate(test_x, test_y, verbose = 0)[1]))\n",
    "    \n",
    "    # This returns the results and the model for use outside the function\n",
    "    return training_stats, model\n",
    "\n",
    "# Plots our evaluations in a line graph to see how they compare\n",
    "def plot_acc(train_acc, test_acc, title):\n",
    "    # Plots the training and testing accuracy lines\n",
    "    training_accuracy, = plt.plot(train_acc, label = 'Training Accuracy')\n",
    "    testing_accuracy, = plt.plot(test_acc, label = 'Testing Accuracy')\n",
    "    plt.legend(handles = [training_accuracy, testing_accuracy])\n",
    "    \n",
    "    # Plots guide lines along y = 0 and y = 1 to help visualise\n",
    "    xp = np.linspace(0, train_acc.shape[0] - 1, 10 * train_acc.shape[0])\n",
    "    plt.plot(xp, np.full(xp.shape, 1), c = 'k', linestyle = ':', alpha = 0.5)\n",
    "    plt.plot(xp, np.full(xp.shape, 0), c = 'k', linestyle = ':', alpha = 0.5)\n",
    "    \n",
    "    plt.xticks(range(0, train_acc.shape[0]), range(1, train_acc.shape[0] + 1))\n",
    "    plt.ylim(0,1)\n",
    "    plt.title(title)\n",
    "    \n",
    "    plt.show()\n",
    "\n",
    "# Plots our evaluations in a bar chart to see how they compare\n",
    "def bar_acc(train_acc, test_acc, title, xticks):\n",
    "    index = range(1, train_acc.shape[0] + 1)\n",
    "    \n",
    "    # Plots the training and testing accuracy bars\n",
    "    training_accuracy = plt.bar(index, train_acc, 0.4, align = 'center')\n",
    "    testing_accuracy = plt.bar(index, test_acc, 0.4, align = 'edge')\n",
    "    plt.legend((training_accuracy[0], testing_accuracy[0]), ('Training Accuracy', 'Testing Accuracy'))\n",
    "    \n",
    "    plt.xticks(index, xticks)\n",
    "    plt.title(title)\n",
    "    \n",
    "    plt.show()"
   ]
  },
  {
   "cell_type": "code",
   "execution_count": 10,
   "metadata": {},
   "outputs": [
    {
     "output_type": "stream",
     "name": "stdout",
     "text": "Evaluating model with 256 hidden neurons...training..."
    }
   ],
   "source": [
    "for hidden1 in range (256,257):\n",
    "    print('Evaluating model with %i hidden neurons... ' %hidden1, end = '')\n",
    "\n",
    "    training_stats, model = train_network(structure = [8, hidden1, hidden1, 1], activation = 'relu', optimizer = 'RMSprop', epochs = 1000)"
   ]
  },
  {
   "cell_type": "code",
   "execution_count": 11,
   "metadata": {},
   "outputs": [
    {
     "output_type": "execute_result",
     "data": {
      "text/plain": "         loss       mae       mse   val_loss   val_mae    val_mse  epoch\n995  9.278429  2.147724  9.278429  63.672279  5.841142  63.672279    995\n996  9.718360  2.257344  9.718360  67.488472  6.285718  67.488472    996\n997  8.499586  2.137927  8.499586  62.427025  5.716910  62.427025    997\n998  9.474313  2.185626  9.474313  64.107925  5.646301  64.107925    998\n999  8.938540  2.089374  8.938540  66.466278  5.989630  66.466278    999",
      "text/html": "<div>\n<style scoped>\n    .dataframe tbody tr th:only-of-type {\n        vertical-align: middle;\n    }\n\n    .dataframe tbody tr th {\n        vertical-align: top;\n    }\n\n    .dataframe thead th {\n        text-align: right;\n    }\n</style>\n<table border=\"1\" class=\"dataframe\">\n  <thead>\n    <tr style=\"text-align: right;\">\n      <th></th>\n      <th>loss</th>\n      <th>mae</th>\n      <th>mse</th>\n      <th>val_loss</th>\n      <th>val_mae</th>\n      <th>val_mse</th>\n      <th>epoch</th>\n    </tr>\n  </thead>\n  <tbody>\n    <tr>\n      <th>995</th>\n      <td>9.278429</td>\n      <td>2.147724</td>\n      <td>9.278429</td>\n      <td>63.672279</td>\n      <td>5.841142</td>\n      <td>63.672279</td>\n      <td>995</td>\n    </tr>\n    <tr>\n      <th>996</th>\n      <td>9.718360</td>\n      <td>2.257344</td>\n      <td>9.718360</td>\n      <td>67.488472</td>\n      <td>6.285718</td>\n      <td>67.488472</td>\n      <td>996</td>\n    </tr>\n    <tr>\n      <th>997</th>\n      <td>8.499586</td>\n      <td>2.137927</td>\n      <td>8.499586</td>\n      <td>62.427025</td>\n      <td>5.716910</td>\n      <td>62.427025</td>\n      <td>997</td>\n    </tr>\n    <tr>\n      <th>998</th>\n      <td>9.474313</td>\n      <td>2.185626</td>\n      <td>9.474313</td>\n      <td>64.107925</td>\n      <td>5.646301</td>\n      <td>64.107925</td>\n      <td>998</td>\n    </tr>\n    <tr>\n      <th>999</th>\n      <td>8.938540</td>\n      <td>2.089374</td>\n      <td>8.938540</td>\n      <td>66.466278</td>\n      <td>5.989630</td>\n      <td>66.466278</td>\n      <td>999</td>\n    </tr>\n  </tbody>\n</table>\n</div>"
     },
     "metadata": {},
     "execution_count": 11
    }
   ],
   "source": [
    "hist = pd.DataFrame(training_stats.history)\n",
    "hist['epoch'] = training_stats.epoch\n",
    "hist.tail()"
   ]
  },
  {
   "cell_type": "code",
   "execution_count": 13,
   "metadata": {},
   "outputs": [
    {
     "output_type": "stream",
     "name": "stdout",
     "text": "----------------------------------------\n"
    },
    {
     "output_type": "error",
     "ename": "AttributeError",
     "evalue": "module 'tensorflow' has no attribute 'random_uniform'",
     "traceback": [
      "\u001b[1;31m---------------------------------------------------------------------------\u001b[0m",
      "\u001b[1;31mAttributeError\u001b[0m                            Traceback (most recent call last)",
      "\u001b[1;32m<ipython-input-13-bc4972a8b1b4>\u001b[0m in \u001b[0;36m<module>\u001b[1;34m\u001b[0m\n\u001b[0;32m     47\u001b[0m \u001b[1;33m\u001b[0m\u001b[0m\n\u001b[0;32m     48\u001b[0m         \u001b[1;32mfor\u001b[0m \u001b[0mshape\u001b[0m \u001b[1;32min\u001b[0m \u001b[0mshapes\u001b[0m\u001b[1;33m:\u001b[0m\u001b[1;33m\u001b[0m\u001b[1;33m\u001b[0m\u001b[0m\n\u001b[1;32m---> 49\u001b[1;33m             \u001b[0m_\u001b[0m\u001b[1;33m,\u001b[0m \u001b[0mtime_taken\u001b[0m \u001b[1;33m=\u001b[0m \u001b[0mcompute_operations\u001b[0m\u001b[1;33m(\u001b[0m\u001b[0mdevice\u001b[0m\u001b[1;33m,\u001b[0m \u001b[0mshape\u001b[0m\u001b[1;33m)\u001b[0m\u001b[1;33m\u001b[0m\u001b[1;33m\u001b[0m\u001b[0m\n\u001b[0m\u001b[0;32m     50\u001b[0m \u001b[1;33m\u001b[0m\u001b[0m\n\u001b[0;32m     51\u001b[0m             \u001b[1;31m# Print the result and also the time taken on the selected device\u001b[0m\u001b[1;33m\u001b[0m\u001b[1;33m\u001b[0m\u001b[1;33m\u001b[0m\u001b[0m\n",
      "\u001b[1;32m<ipython-input-13-bc4972a8b1b4>\u001b[0m in \u001b[0;36mcompute_operations\u001b[1;34m(device, shape)\u001b[0m\n\u001b[0;32m     26\u001b[0m     \u001b[1;31m# Define operations to be computed on selected device\u001b[0m\u001b[1;33m\u001b[0m\u001b[1;33m\u001b[0m\u001b[1;33m\u001b[0m\u001b[0m\n\u001b[0;32m     27\u001b[0m     \u001b[1;32mwith\u001b[0m \u001b[0mtf\u001b[0m\u001b[1;33m.\u001b[0m\u001b[0mdevice\u001b[0m\u001b[1;33m(\u001b[0m\u001b[0mdevice\u001b[0m\u001b[1;33m)\u001b[0m\u001b[1;33m:\u001b[0m\u001b[1;33m\u001b[0m\u001b[1;33m\u001b[0m\u001b[0m\n\u001b[1;32m---> 28\u001b[1;33m         \u001b[0mrandom_matrix\u001b[0m \u001b[1;33m=\u001b[0m \u001b[0mtf\u001b[0m\u001b[1;33m.\u001b[0m\u001b[0mrandom_uniform\u001b[0m\u001b[1;33m(\u001b[0m\u001b[0mshape\u001b[0m\u001b[1;33m=\u001b[0m\u001b[0mshape\u001b[0m\u001b[1;33m,\u001b[0m \u001b[0mminval\u001b[0m\u001b[1;33m=\u001b[0m\u001b[1;36m0\u001b[0m\u001b[1;33m,\u001b[0m \u001b[0mmaxval\u001b[0m\u001b[1;33m=\u001b[0m\u001b[1;36m1\u001b[0m\u001b[1;33m)\u001b[0m\u001b[1;33m\u001b[0m\u001b[1;33m\u001b[0m\u001b[0m\n\u001b[0m\u001b[0;32m     29\u001b[0m         \u001b[0mdot_operation\u001b[0m \u001b[1;33m=\u001b[0m \u001b[0mtf\u001b[0m\u001b[1;33m.\u001b[0m\u001b[0mmatmul\u001b[0m\u001b[1;33m(\u001b[0m\u001b[0mrandom_matrix\u001b[0m\u001b[1;33m,\u001b[0m \u001b[0mtf\u001b[0m\u001b[1;33m.\u001b[0m\u001b[0mtranspose\u001b[0m\u001b[1;33m(\u001b[0m\u001b[0mrandom_matrix\u001b[0m\u001b[1;33m)\u001b[0m\u001b[1;33m)\u001b[0m\u001b[1;33m\u001b[0m\u001b[1;33m\u001b[0m\u001b[0m\n\u001b[0;32m     30\u001b[0m         \u001b[0msum_operation\u001b[0m \u001b[1;33m=\u001b[0m \u001b[0mtf\u001b[0m\u001b[1;33m.\u001b[0m\u001b[0mreduce_sum\u001b[0m\u001b[1;33m(\u001b[0m\u001b[0mdot_operation\u001b[0m\u001b[1;33m)\u001b[0m\u001b[1;33m\u001b[0m\u001b[1;33m\u001b[0m\u001b[0m\n",
      "\u001b[1;31mAttributeError\u001b[0m: module 'tensorflow' has no attribute 'random_uniform'"
     ]
    }
   ],
   "source": []
  },
  {
   "cell_type": "code",
   "execution_count": null,
   "metadata": {},
   "outputs": [],
   "source": []
  }
 ],
 "metadata": {
  "language_info": {
   "codemirror_mode": {
    "name": "ipython",
    "version": 3
   },
   "file_extension": ".py",
   "mimetype": "text/x-python",
   "name": "python",
   "nbconvert_exporter": "python",
   "pygments_lexer": "ipython3",
   "version": "3.7.7-final"
  },
  "orig_nbformat": 2,
  "kernelspec": {
   "name": "python37764bitvenvvenv7a418ffdc732437e890dd4c45e928f2c",
   "display_name": "Python 3.7.7 64-bit ('venv': venv)"
  }
 },
 "nbformat": 4,
 "nbformat_minor": 2
}